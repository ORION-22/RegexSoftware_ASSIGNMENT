{
 "cells": [
  {
   "cell_type": "markdown",
   "metadata": {},
   "source": [
    "Assignment 13 <br>\n",
    "    \n",
    "Referral id: SIRSS1088 <br>\n",
    "NAME: ONASVEE BANARSE <br>\n",
    "EMAIL : 2obanarse@gmail.com <br>\n",
    "COLLEGE: AISSMS IOIT <br>\n",
    "GitHub : https://github.com/ORION-22/RegexSoftware_ASSIGNMENT.git <br>\n",
    "Kaggle:https://www.kaggle.com/onasveebanarse"
   ]
  },
  {
   "cell_type": "code",
   "execution_count": null,
   "metadata": {
    "_cell_guid": "b1076dfc-b9ad-4769-8c92-a6c4dae69d19",
    "_uuid": "8f2839f25d086af736a60e9eeb907d3b93b6e0e5",
    "execution": {
     "iopub.execute_input": "2021-08-03T10:39:57.203429Z",
     "iopub.status.busy": "2021-08-03T10:39:57.203104Z",
     "iopub.status.idle": "2021-08-03T10:39:57.209229Z",
     "shell.execute_reply": "2021-08-03T10:39:57.208282Z",
     "shell.execute_reply.started": "2021-08-03T10:39:57.203401Z"
    }
   },
   "outputs": [],
   "source": [
    "import os \n",
    "import pandas as pd\n",
    "import numpy as np\n",
    "import matplotlib.pyplot as plt\n",
    "import zipfile\n",
    "import tensorflow as tf\n",
    "from tensorflow.keras.optimizers import RMSprop\n",
    "from tensorflow.keras.preprocessing.image import ImageDataGenerator\n",
    "from tensorflow.keras import datasets,layers,models,Model"
   ]
  },
  {
   "cell_type": "code",
   "execution_count": null,
   "metadata": {
    "execution": {
     "iopub.execute_input": "2021-08-03T10:26:22.256707Z",
     "iopub.status.busy": "2021-08-03T10:26:22.256449Z",
     "iopub.status.idle": "2021-08-03T10:26:26.893368Z",
     "shell.execute_reply": "2021-08-03T10:26:26.892482Z",
     "shell.execute_reply.started": "2021-08-03T10:26:22.256672Z"
    }
   },
   "outputs": [],
   "source": [
    "# loading data set\n",
    "\n",
    "(X_train,Y_train),(X_test,Y_test)=datasets.cifar10.load_data()"
   ]
  },
  {
   "cell_type": "code",
   "execution_count": null,
   "metadata": {
    "execution": {
     "iopub.execute_input": "2021-08-03T10:26:26.895453Z",
     "iopub.status.busy": "2021-08-03T10:26:26.895144Z",
     "iopub.status.idle": "2021-08-03T10:26:26.902881Z",
     "shell.execute_reply": "2021-08-03T10:26:26.901838Z",
     "shell.execute_reply.started": "2021-08-03T10:26:26.895427Z"
    }
   },
   "outputs": [],
   "source": [
    "X_train.shape"
   ]
  },
  {
   "cell_type": "code",
   "execution_count": null,
   "metadata": {
    "execution": {
     "iopub.execute_input": "2021-08-03T10:26:26.905215Z",
     "iopub.status.busy": "2021-08-03T10:26:26.904827Z",
     "iopub.status.idle": "2021-08-03T10:26:26.914811Z",
     "shell.execute_reply": "2021-08-03T10:26:26.913726Z",
     "shell.execute_reply.started": "2021-08-03T10:26:26.905179Z"
    }
   },
   "outputs": [],
   "source": [
    "Y_train.shape"
   ]
  },
  {
   "cell_type": "code",
   "execution_count": null,
   "metadata": {},
   "outputs": [],
   "source": [
    "X_test.shape"
   ]
  },
  {
   "cell_type": "code",
   "execution_count": null,
   "metadata": {
    "execution": {
     "iopub.execute_input": "2021-08-03T10:26:26.916734Z",
     "iopub.status.busy": "2021-08-03T10:26:26.916282Z",
     "iopub.status.idle": "2021-08-03T10:26:26.922245Z",
     "shell.execute_reply": "2021-08-03T10:26:26.921067Z",
     "shell.execute_reply.started": "2021-08-03T10:26:26.916676Z"
    }
   },
   "outputs": [],
   "source": [
    "# reshape  2 d to 1 d \n",
    "Y_train = Y_train.reshape(-1,)\n",
    "Y_test = Y_test.reshape(-1,)"
   ]
  },
  {
   "cell_type": "code",
   "execution_count": null,
   "metadata": {
    "execution": {
     "iopub.execute_input": "2021-08-03T10:26:26.924281Z",
     "iopub.status.busy": "2021-08-03T10:26:26.923828Z",
     "iopub.status.idle": "2021-08-03T10:26:26.931154Z",
     "shell.execute_reply": "2021-08-03T10:26:26.929869Z",
     "shell.execute_reply.started": "2021-08-03T10:26:26.924245Z"
    }
   },
   "outputs": [],
   "source": [
    "classes = [\"airplane\",\"automobile\",\"bird\",\"cat\",\"deer\",\"dog\",\"frog\",\"horse\",\"ship\",\"truck\"]"
   ]
  },
  {
   "cell_type": "code",
   "execution_count": null,
   "metadata": {
    "execution": {
     "iopub.execute_input": "2021-08-03T10:26:26.93323Z",
     "iopub.status.busy": "2021-08-03T10:26:26.932796Z",
     "iopub.status.idle": "2021-08-03T10:26:26.940595Z",
     "shell.execute_reply": "2021-08-03T10:26:26.939731Z",
     "shell.execute_reply.started": "2021-08-03T10:26:26.933197Z"
    }
   },
   "outputs": [],
   "source": [
    "def plot_sample(X, Y, index):\n",
    "    plt.figure(figsize = (15,2))\n",
    "    plt.imshow(X[index])\n",
    "    plt.xlabel(classes[Y[index]])"
   ]
  },
  {
   "cell_type": "code",
   "execution_count": null,
   "metadata": {
    "execution": {
     "iopub.execute_input": "2021-08-03T10:26:26.942529Z",
     "iopub.status.busy": "2021-08-03T10:26:26.942092Z",
     "iopub.status.idle": "2021-08-03T10:26:27.063782Z",
     "shell.execute_reply": "2021-08-03T10:26:27.062882Z",
     "shell.execute_reply.started": "2021-08-03T10:26:26.942494Z"
    }
   },
   "outputs": [],
   "source": [
    "plot_sample(X_train, Y_train, 6)"
   ]
  },
  {
   "cell_type": "code",
   "execution_count": null,
   "metadata": {
    "execution": {
     "iopub.execute_input": "2021-08-03T10:26:27.066456Z",
     "iopub.status.busy": "2021-08-03T10:26:27.066099Z",
     "iopub.status.idle": "2021-08-03T10:26:28.002359Z",
     "shell.execute_reply": "2021-08-03T10:26:28.001398Z",
     "shell.execute_reply.started": "2021-08-03T10:26:27.066422Z"
    }
   },
   "outputs": [],
   "source": [
    "for i in range(10):\n",
    "  plot_sample(X_train, Y_train, i)"
   ]
  },
  {
   "cell_type": "code",
   "execution_count": null,
   "metadata": {
    "execution": {
     "iopub.execute_input": "2021-08-03T10:26:28.004313Z",
     "iopub.status.busy": "2021-08-03T10:26:28.003977Z",
     "iopub.status.idle": "2021-08-03T10:26:28.461735Z",
     "shell.execute_reply": "2021-08-03T10:26:28.460849Z",
     "shell.execute_reply.started": "2021-08-03T10:26:28.004279Z"
    }
   },
   "outputs": [],
   "source": [
    "# normalization\n",
    "X_train=X_train/255\n",
    "X_test=X_test/255"
   ]
  },
  {
   "cell_type": "markdown",
   "metadata": {},
   "source": [
    "Simple ANN"
   ]
  },
  {
   "cell_type": "markdown",
   "metadata": {},
   "source": [
    "categorical_crossentropy= when y is one hot encoded 0000100\n",
    "sparse_categorical_crossentropy = when y is a define value y=9"
   ]
  },
  {
   "cell_type": "code",
   "execution_count": null,
   "metadata": {
    "execution": {
     "iopub.execute_input": "2021-08-03T08:04:30.063719Z",
     "iopub.status.busy": "2021-08-03T08:04:30.063393Z",
     "iopub.status.idle": "2021-08-03T08:05:14.91805Z",
     "shell.execute_reply": "2021-08-03T08:05:14.917276Z",
     "shell.execute_reply.started": "2021-08-03T08:04:30.06369Z"
    }
   },
   "outputs": [],
   "source": [
    "model_ann = models.Sequential([\n",
    "        layers.Flatten(input_shape=(32,32,3)),\n",
    "        layers.Dense(3000, activation='relu'),\n",
    "        layers.Dense(2000, activation='relu'),\n",
    "        layers.Dense(1000, activation='relu'),\n",
    "        layers.Dense(10, activation='softmax')    \n",
    "    ])\n",
    "\n",
    "model_ann.compile(optimizer='SGD',\n",
    "              loss='sparse_categorical_crossentropy',\n",
    "              metrics=['accuracy'])\n",
    "\n",
    "MODEL_1=model_ann.fit(\n",
    "    X_train, Y_train, epochs=10\n",
    ")"
   ]
  },
  {
   "cell_type": "markdown",
   "metadata": {},
   "source": [
    "ANN=**accuracy: 0.5764**"
   ]
  },
  {
   "cell_type": "markdown",
   "metadata": {},
   "source": [
    "**CNN**"
   ]
  },
  {
   "cell_type": "code",
   "execution_count": null,
   "metadata": {
    "execution": {
     "iopub.execute_input": "2021-08-03T08:54:27.644673Z",
     "iopub.status.busy": "2021-08-03T08:54:27.644364Z",
     "iopub.status.idle": "2021-08-03T08:54:27.710407Z",
     "shell.execute_reply": "2021-08-03T08:54:27.709578Z",
     "shell.execute_reply.started": "2021-08-03T08:54:27.644646Z"
    }
   },
   "outputs": [],
   "source": [
    "model_cnn = models.Sequential([\n",
    "        layers.Conv2D(filters=32,kernel_size=(3,3),activation='relu',input_shape=(32,32,3)),\n",
    "        layers.MaxPooling2D((2,2)),\n",
    "        \n",
    "        layers.Conv2D(filters=64,kernel_size=(3,3),activation='relu'),\n",
    "        layers.MaxPooling2D((2,2)),\n",
    "        layers.Dropout(0.5),\n",
    "    \n",
    "        layers.Conv2D(filters=128,kernel_size=(3,3),activation='relu'),\n",
    "        layers.MaxPooling2D((2,2)),\n",
    "        layers.Dropout(0.5),\n",
    "        \n",
    "        layers.Flatten(),\n",
    "        layers.Dense(512, activation='relu'),\n",
    "        layers.Dense(10, activation='softmax')    \n",
    "    ])"
   ]
  },
  {
   "cell_type": "code",
   "execution_count": null,
   "metadata": {
    "execution": {
     "iopub.execute_input": "2021-08-03T08:54:29.431044Z",
     "iopub.status.busy": "2021-08-03T08:54:29.430724Z",
     "iopub.status.idle": "2021-08-03T08:56:29.248508Z",
     "shell.execute_reply": "2021-08-03T08:56:29.247738Z",
     "shell.execute_reply.started": "2021-08-03T08:54:29.431014Z"
    }
   },
   "outputs": [],
   "source": [
    "model_cnn.compile(\n",
    "                loss = 'sparse_categorical_crossentropy',\n",
    "               optimizer = RMSprop(learning_rate=1e-4),\n",
    "               metrics = ['accuracy'])\n",
    "\n",
    "\n",
    "MODEL_2=model_cnn.fit(X_train,Y_train,\n",
    "                        epochs=20,\n",
    "                      verbose=1)"
   ]
  },
  {
   "cell_type": "code",
   "execution_count": null,
   "metadata": {
    "execution": {
     "iopub.execute_input": "2021-08-03T08:56:29.250511Z",
     "iopub.status.busy": "2021-08-03T08:56:29.250153Z",
     "iopub.status.idle": "2021-08-03T08:56:30.538995Z",
     "shell.execute_reply": "2021-08-03T08:56:30.538206Z",
     "shell.execute_reply.started": "2021-08-03T08:56:29.250475Z"
    }
   },
   "outputs": [],
   "source": [
    "model_cnn.evaluate(X_test,Y_test)"
   ]
  },
  {
   "cell_type": "markdown",
   "metadata": {},
   "source": [
    "CNN_RMSprop=\n",
    "* **accuracy on train: 0.6262**\n",
    "* **accuracy on test: 0.6644**"
   ]
  },
  {
   "cell_type": "code",
   "execution_count": null,
   "metadata": {
    "execution": {
     "iopub.execute_input": "2021-08-03T10:32:26.131151Z",
     "iopub.status.busy": "2021-08-03T10:32:26.130818Z",
     "iopub.status.idle": "2021-08-03T10:34:11.447853Z",
     "shell.execute_reply": "2021-08-03T10:34:11.44708Z",
     "shell.execute_reply.started": "2021-08-03T10:32:26.131122Z"
    }
   },
   "outputs": [],
   "source": [
    "model_cnn_2 = models.Sequential([\n",
    "        layers.Conv2D(filters=32,kernel_size=(3,3),activation='relu',input_shape=(32,32,3)),\n",
    "        layers.MaxPooling2D((2,2)),\n",
    "        \n",
    "        layers.Conv2D(filters=64,kernel_size=(3,3),activation='relu'),\n",
    "        layers.MaxPooling2D((2,2)),\n",
    "        layers.Dropout(0.5),\n",
    "    \n",
    "        layers.Conv2D(filters=128,kernel_size=(3,3),activation='relu'),\n",
    "        layers.MaxPooling2D((2,2)),\n",
    "        layers.Dropout(0.5),\n",
    "        \n",
    "        layers.Flatten(),\n",
    "        layers.Dense(512, activation='relu'),\n",
    "        layers.Dense(10, activation='softmax')    \n",
    "    ])\n",
    "\n",
    "model_cnn_2.compile(\n",
    "                loss = 'sparse_categorical_crossentropy',\n",
    "               optimizer = \"adam\",\n",
    "               metrics = ['accuracy'])\n",
    "\n",
    "\n",
    "MODEL_3=model_cnn_2.fit(X_train,Y_train,\n",
    "                        epochs=20,\n",
    "                      verbose=1)"
   ]
  },
  {
   "cell_type": "code",
   "execution_count": null,
   "metadata": {
    "execution": {
     "iopub.execute_input": "2021-08-03T10:34:11.451069Z",
     "iopub.status.busy": "2021-08-03T10:34:11.450817Z",
     "iopub.status.idle": "2021-08-03T10:34:12.450333Z",
     "shell.execute_reply": "2021-08-03T10:34:12.44958Z",
     "shell.execute_reply.started": "2021-08-03T10:34:11.451044Z"
    }
   },
   "outputs": [],
   "source": [
    "model_cnn_2.evaluate(X_test,Y_test)"
   ]
  },
  {
   "cell_type": "markdown",
   "metadata": {},
   "source": [
    "CNN_adam=\n",
    "* **accuracy on train: 0.6880**\n",
    "* **accuracy on test: 0.7342**"
   ]
  },
  {
   "cell_type": "code",
   "execution_count": null,
   "metadata": {
    "execution": {
     "iopub.execute_input": "2021-08-03T10:35:44.785749Z",
     "iopub.status.busy": "2021-08-03T10:35:44.78541Z",
     "iopub.status.idle": "2021-08-03T10:35:45.53265Z",
     "shell.execute_reply": "2021-08-03T10:35:45.531713Z",
     "shell.execute_reply.started": "2021-08-03T10:35:44.785716Z"
    }
   },
   "outputs": [],
   "source": [
    "y_pred = model_cnn_2.predict(X_test)\n",
    "\n",
    "y_classes = [np.argmax(element) for element in y_pred]\n",
    "y_classes[:5]"
   ]
  },
  {
   "cell_type": "code",
   "execution_count": null,
   "metadata": {
    "execution": {
     "iopub.execute_input": "2021-08-03T10:35:50.734137Z",
     "iopub.status.busy": "2021-08-03T10:35:50.733813Z",
     "iopub.status.idle": "2021-08-03T10:35:50.739869Z",
     "shell.execute_reply": "2021-08-03T10:35:50.738802Z",
     "shell.execute_reply.started": "2021-08-03T10:35:50.73411Z"
    }
   },
   "outputs": [],
   "source": [
    "Y_test[:5]"
   ]
  },
  {
   "cell_type": "code",
   "execution_count": null,
   "metadata": {
    "execution": {
     "iopub.execute_input": "2021-08-03T10:35:51.596036Z",
     "iopub.status.busy": "2021-08-03T10:35:51.59567Z",
     "iopub.status.idle": "2021-08-03T10:35:51.698103Z",
     "shell.execute_reply": "2021-08-03T10:35:51.697139Z",
     "shell.execute_reply.started": "2021-08-03T10:35:51.596007Z"
    }
   },
   "outputs": [],
   "source": [
    "plot_sample(X_test, Y_test,1)"
   ]
  },
  {
   "cell_type": "code",
   "execution_count": null,
   "metadata": {
    "execution": {
     "iopub.execute_input": "2021-08-03T10:49:43.285426Z",
     "iopub.status.busy": "2021-08-03T10:49:43.285082Z",
     "iopub.status.idle": "2021-08-03T10:49:43.29349Z",
     "shell.execute_reply": "2021-08-03T10:49:43.292387Z",
     "shell.execute_reply.started": "2021-08-03T10:49:43.285397Z"
    }
   },
   "outputs": [],
   "source": [
    "preds=[]\n",
    "for element in y_classes:\n",
    "    try:\n",
    "        preds.append(classes[element])\n",
    "    except:\n",
    "        preds.append('\\0')\n",
    "ids=[ele+1 for ele in range(len(preds))]"
   ]
  },
  {
   "cell_type": "code",
   "execution_count": null,
   "metadata": {
    "execution": {
     "iopub.execute_input": "2021-08-03T11:02:57.368358Z",
     "iopub.status.busy": "2021-08-03T11:02:57.368038Z",
     "iopub.status.idle": "2021-08-03T11:02:57.402598Z",
     "shell.execute_reply": "2021-08-03T11:02:57.401659Z",
     "shell.execute_reply.started": "2021-08-03T11:02:57.368329Z"
    }
   },
   "outputs": [],
   "source": [
    "submission = pd.DataFrame({'label':preds},index=ids)\n",
    "\n",
    "\n",
    "\n",
    "submission.to_csv('submission_cifar_10.csv') "
   ]
  }
 ],
 "metadata": {
  "kernelspec": {
   "display_name": "Python 3",
   "language": "python",
   "name": "python3"
  },
  "language_info": {
   "codemirror_mode": {
    "name": "ipython",
    "version": 3
   },
   "file_extension": ".py",
   "mimetype": "text/x-python",
   "name": "python",
   "nbconvert_exporter": "python",
   "pygments_lexer": "ipython3",
   "version": "3.9.1"
  }
 },
 "nbformat": 4,
 "nbformat_minor": 4
}
