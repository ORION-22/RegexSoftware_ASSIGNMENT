{
 "cells": [
  {
   "cell_type": "markdown",
   "id": "a09229a1",
   "metadata": {},
   "source": [
    "Assignment 3<br>\n",
    "    \n",
    "Referral id: SIRSS1088 <br>\n",
    "NAME: ONASVEE BANARSE <br>\n",
    "EMAIL : 2obanarse@gmail.com <br>\n",
    "COLLEGE: AISSMS IOIT <br>\n",
    "GitHub : https://github.com/ORION-22/RegexSoftware_ASSIGNMENT.git"
   ]
  },
  {
   "cell_type": "markdown",
   "id": "eb1f464c",
   "metadata": {},
   "source": [
    "# Q1. Write a function to return nth term of Fibonacci sequence.\n",
    "0, 1, 1, 2, 3, 5, 8, 13, 21, 34, 55, 89, 144, "
   ]
  },
  {
   "cell_type": "code",
   "execution_count": 12,
   "id": "6f393900",
   "metadata": {},
   "outputs": [
    {
     "name": "stdout",
     "output_type": "stream",
     "text": [
      "Enter the n'th number:11\n",
      "89\n"
     ]
    }
   ],
   "source": [
    "def Fibonacci(n):\n",
    "    if n<0:\n",
    "        print(\"Incorrect input\")\n",
    "    elif n==0:\n",
    "        return 0\n",
    "    elif n==1:\n",
    "        return 1\n",
    "    else:\n",
    "        return Fibonacci(n-1)+Fibonacci(n-2)\n",
    "\n",
    "a = int(input(\"Enter the n'th number:\"))\n",
    "print(Fibonacci(a))"
   ]
  },
  {
   "cell_type": "markdown",
   "id": "12fd1bd3",
   "metadata": {},
   "source": [
    "\n",
    "# Q2. Write a function to find out GCD of two numbers using EUCLID'S algorithm."
   ]
  },
  {
   "cell_type": "code",
   "execution_count": 8,
   "id": "c495c8f1",
   "metadata": {},
   "outputs": [
    {
     "name": "stdout",
     "output_type": "stream",
     "text": [
      "Enter first number:725\n",
      "Enter second number:25\n",
      "GCD of 725 and 25 is 25\n"
     ]
    }
   ],
   "source": [
    "def gcd(a,b):\n",
    "    if (b == 0):\n",
    "         return a\n",
    "    return gcd(b, a%b)\n",
    " \n",
    "\n",
    "a = int(input(\"Enter first number:\"))\n",
    "b = int(input(\"Enter second number:\"))\n",
    "if(gcd(a, b)):\n",
    "    print('GCD of', a, 'and', b, 'is', gcd(a, b))\n",
    "else:\n",
    "    print('not found')"
   ]
  },
  {
   "cell_type": "markdown",
   "id": "ef626615",
   "metadata": {},
   "source": [
    "# Q3. Write a function to find LCM of two number in most optimizers way.\n"
   ]
  },
  {
   "cell_type": "code",
   "execution_count": 3,
   "id": "83a3a513",
   "metadata": {},
   "outputs": [
    {
     "name": "stdout",
     "output_type": "stream",
     "text": [
      "Enter first number:10\n",
      "Enter second number:20\n",
      "LCM of 10 and 20 is 20.0\n"
     ]
    }
   ],
   "source": [
    "def gcd(a,b):\n",
    "    if a == 0:\n",
    "        return b\n",
    "    return gcd(b % a, a)\n",
    "\n",
    "def lcm(a,b):\n",
    "    return (a / gcd(a,b))* b\n",
    "\n",
    "a = int(input(\"Enter first number:\"))\n",
    "b = int(input(\"Enter second number:\"))\n",
    "print('LCM of', a, 'and', b, 'is', lcm(a, b))"
   ]
  },
  {
   "cell_type": "code",
   "execution_count": null,
   "id": "986a99d4",
   "metadata": {},
   "outputs": [],
   "source": []
  }
 ],
 "metadata": {
  "kernelspec": {
   "display_name": "Python 3",
   "language": "python",
   "name": "python3"
  },
  "language_info": {
   "codemirror_mode": {
    "name": "ipython",
    "version": 3
   },
   "file_extension": ".py",
   "mimetype": "text/x-python",
   "name": "python",
   "nbconvert_exporter": "python",
   "pygments_lexer": "ipython3",
   "version": "3.9.1"
  }
 },
 "nbformat": 4,
 "nbformat_minor": 5
}
