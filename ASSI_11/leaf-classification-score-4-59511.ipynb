{
 "cells": [
  {
   "cell_type": "markdown",
   "metadata": {},
   "source": [
    "Assignment 11\n",
    "    \n",
    "Referral id: SIRSS1088 <br>\n",
    "NAME: ONASVEE BANARSE <br>\n",
    "EMAIL : 2obanarse@gmail.com <br>\n",
    "COLLEGE: AISSMS IOIT <br>\n",
    "GitHub : https://github.com/ORION-22/RegexSoftware_ASSIGNMENT.git </br>\n",
    "Kaggle:https://www.kaggle.com/c/leaf-classification/data"
   ]
  },
  {
   "cell_type": "code",
   "execution_count": null,
   "metadata": {
    "_cell_guid": "b1076dfc-b9ad-4769-8c92-a6c4dae69d19",
    "_uuid": "8f2839f25d086af736a60e9eeb907d3b93b6e0e5",
    "execution": {
     "iopub.execute_input": "2021-07-26T18:22:01.003833Z",
     "iopub.status.busy": "2021-07-26T18:22:01.00344Z",
     "iopub.status.idle": "2021-07-26T18:22:01.010357Z",
     "shell.execute_reply": "2021-07-26T18:22:01.008501Z",
     "shell.execute_reply.started": "2021-07-26T18:22:01.003801Z"
    }
   },
   "outputs": [],
   "source": [
    "import numpy as np\n",
    "import pandas as pd\n",
    "import matplotlib.pyplot as plt\n",
    "import seaborn as sns \n",
    "import sklearn"
   ]
  },
  {
   "cell_type": "code",
   "execution_count": null,
   "metadata": {
    "execution": {
     "iopub.execute_input": "2021-07-26T18:25:31.324067Z",
     "iopub.status.busy": "2021-07-26T18:25:31.323654Z",
     "iopub.status.idle": "2021-07-26T18:25:31.422824Z",
     "shell.execute_reply": "2021-07-26T18:25:31.42137Z",
     "shell.execute_reply.started": "2021-07-26T18:25:31.324036Z"
    }
   },
   "outputs": [],
   "source": [
    "train_data=pd.read_csv('../input/leafclassification/train.csv')\n",
    "test_data=pd.read_csv('../input/leafclassification/test.csv')"
   ]
  },
  {
   "cell_type": "code",
   "execution_count": null,
   "metadata": {
    "execution": {
     "iopub.execute_input": "2021-07-26T18:22:03.291306Z",
     "iopub.status.busy": "2021-07-26T18:22:03.290914Z",
     "iopub.status.idle": "2021-07-26T18:22:03.329693Z",
     "shell.execute_reply": "2021-07-26T18:22:03.328228Z",
     "shell.execute_reply.started": "2021-07-26T18:22:03.291275Z"
    }
   },
   "outputs": [],
   "source": [
    "train_data.head(5)"
   ]
  },
  {
   "cell_type": "code",
   "execution_count": null,
   "metadata": {
    "execution": {
     "iopub.execute_input": "2021-07-26T18:22:04.44403Z",
     "iopub.status.busy": "2021-07-26T18:22:04.443463Z",
     "iopub.status.idle": "2021-07-26T18:22:04.48465Z",
     "shell.execute_reply": "2021-07-26T18:22:04.48359Z",
     "shell.execute_reply.started": "2021-07-26T18:22:04.443999Z"
    }
   },
   "outputs": [],
   "source": [
    "test_data.head(5)"
   ]
  },
  {
   "cell_type": "code",
   "execution_count": null,
   "metadata": {
    "execution": {
     "iopub.execute_input": "2021-07-26T18:22:05.586563Z",
     "iopub.status.busy": "2021-07-26T18:22:05.586204Z",
     "iopub.status.idle": "2021-07-26T18:22:05.612388Z",
     "shell.execute_reply": "2021-07-26T18:22:05.611019Z",
     "shell.execute_reply.started": "2021-07-26T18:22:05.586533Z"
    }
   },
   "outputs": [],
   "source": [
    "train_data.info()"
   ]
  },
  {
   "cell_type": "code",
   "execution_count": null,
   "metadata": {
    "execution": {
     "iopub.execute_input": "2021-07-26T18:22:06.885714Z",
     "iopub.status.busy": "2021-07-26T18:22:06.885315Z",
     "iopub.status.idle": "2021-07-26T18:22:07.365438Z",
     "shell.execute_reply": "2021-07-26T18:22:07.364108Z",
     "shell.execute_reply.started": "2021-07-26T18:22:06.885683Z"
    }
   },
   "outputs": [],
   "source": [
    "train_data.describe()"
   ]
  },
  {
   "cell_type": "code",
   "execution_count": null,
   "metadata": {
    "execution": {
     "iopub.execute_input": "2021-07-26T18:22:08.236909Z",
     "iopub.status.busy": "2021-07-26T18:22:08.236523Z",
     "iopub.status.idle": "2021-07-26T18:22:08.245933Z",
     "shell.execute_reply": "2021-07-26T18:22:08.244665Z",
     "shell.execute_reply.started": "2021-07-26T18:22:08.236875Z"
    }
   },
   "outputs": [],
   "source": [
    "train_data.columns"
   ]
  },
  {
   "cell_type": "code",
   "execution_count": null,
   "metadata": {
    "execution": {
     "iopub.execute_input": "2021-07-26T18:22:09.315404Z",
     "iopub.status.busy": "2021-07-26T18:22:09.314931Z",
     "iopub.status.idle": "2021-07-26T18:22:09.325163Z",
     "shell.execute_reply": "2021-07-26T18:22:09.323623Z",
     "shell.execute_reply.started": "2021-07-26T18:22:09.315371Z"
    }
   },
   "outputs": [],
   "source": [
    "test_data.columns"
   ]
  },
  {
   "cell_type": "code",
   "execution_count": null,
   "metadata": {
    "execution": {
     "iopub.execute_input": "2021-07-26T18:22:10.30142Z",
     "iopub.status.busy": "2021-07-26T18:22:10.300991Z",
     "iopub.status.idle": "2021-07-26T18:22:10.307911Z",
     "shell.execute_reply": "2021-07-26T18:22:10.306532Z",
     "shell.execute_reply.started": "2021-07-26T18:22:10.301388Z"
    }
   },
   "outputs": [],
   "source": [
    "print('train shape ',train_data.shape)\n",
    "print('test shape ',test_data.shape)"
   ]
  },
  {
   "cell_type": "code",
   "execution_count": null,
   "metadata": {
    "execution": {
     "iopub.execute_input": "2021-07-26T18:22:11.321463Z",
     "iopub.status.busy": "2021-07-26T18:22:11.321064Z",
     "iopub.status.idle": "2021-07-26T18:22:11.399055Z",
     "shell.execute_reply": "2021-07-26T18:22:11.397705Z",
     "shell.execute_reply.started": "2021-07-26T18:22:11.321435Z"
    }
   },
   "outputs": [],
   "source": [
    "train_data.nunique()"
   ]
  },
  {
   "cell_type": "code",
   "execution_count": null,
   "metadata": {
    "execution": {
     "iopub.execute_input": "2021-07-26T18:22:12.427742Z",
     "iopub.status.busy": "2021-07-26T18:22:12.427341Z",
     "iopub.status.idle": "2021-07-26T18:22:12.444553Z",
     "shell.execute_reply": "2021-07-26T18:22:12.443366Z",
     "shell.execute_reply.started": "2021-07-26T18:22:12.427711Z"
    }
   },
   "outputs": [],
   "source": [
    "print(train_data.isnull().sum())\n",
    "print(test_data.isnull().sum())"
   ]
  },
  {
   "cell_type": "code",
   "execution_count": null,
   "metadata": {
    "execution": {
     "iopub.execute_input": "2021-07-26T18:22:13.562035Z",
     "iopub.status.busy": "2021-07-26T18:22:13.561682Z",
     "iopub.status.idle": "2021-07-26T18:22:13.568457Z",
     "shell.execute_reply": "2021-07-26T18:22:13.567309Z",
     "shell.execute_reply.started": "2021-07-26T18:22:13.562003Z"
    }
   },
   "outputs": [],
   "source": [
    "from sklearn.preprocessing import LabelEncoder\n",
    "enc=LabelEncoder()\n",
    "train_data['species']=enc.fit_transform(train_data['species'])"
   ]
  },
  {
   "cell_type": "code",
   "execution_count": null,
   "metadata": {
    "execution": {
     "iopub.execute_input": "2021-07-26T18:22:15.084823Z",
     "iopub.status.busy": "2021-07-26T18:22:15.08445Z",
     "iopub.status.idle": "2021-07-26T18:22:16.180496Z",
     "shell.execute_reply": "2021-07-26T18:22:16.179296Z",
     "shell.execute_reply.started": "2021-07-26T18:22:15.084791Z"
    }
   },
   "outputs": [],
   "source": [
    "sns.heatmap(data=train_data)"
   ]
  },
  {
   "cell_type": "code",
   "execution_count": null,
   "metadata": {
    "execution": {
     "iopub.execute_input": "2021-07-26T18:22:16.456754Z",
     "iopub.status.busy": "2021-07-26T18:22:16.456359Z",
     "iopub.status.idle": "2021-07-26T18:22:17.492822Z",
     "shell.execute_reply": "2021-07-26T18:22:17.49175Z",
     "shell.execute_reply.started": "2021-07-26T18:22:16.45671Z"
    }
   },
   "outputs": [],
   "source": [
    "sns.heatmap(data=train_data.corr())"
   ]
  },
  {
   "cell_type": "code",
   "execution_count": null,
   "metadata": {
    "execution": {
     "iopub.execute_input": "2021-07-26T18:22:18.021015Z",
     "iopub.status.busy": "2021-07-26T18:22:18.020629Z",
     "iopub.status.idle": "2021-07-26T18:22:18.031516Z",
     "shell.execute_reply": "2021-07-26T18:22:18.030018Z",
     "shell.execute_reply.started": "2021-07-26T18:22:18.020982Z"
    }
   },
   "outputs": [],
   "source": [
    "X=train_data.drop(['id','species'],axis=1).values\n",
    "Y=train_data[['species']].values\n",
    "print(X.shape,Y.shape)"
   ]
  },
  {
   "cell_type": "code",
   "execution_count": null,
   "metadata": {
    "execution": {
     "iopub.execute_input": "2021-07-26T18:22:20.325519Z",
     "iopub.status.busy": "2021-07-26T18:22:20.325071Z",
     "iopub.status.idle": "2021-07-26T18:22:20.336339Z",
     "shell.execute_reply": "2021-07-26T18:22:20.335174Z",
     "shell.execute_reply.started": "2021-07-26T18:22:20.325486Z"
    }
   },
   "outputs": [],
   "source": [
    "scaler = StandardScaler().fit(X)\n",
    "X = scaler.transform(X)"
   ]
  },
  {
   "cell_type": "code",
   "execution_count": null,
   "metadata": {
    "execution": {
     "iopub.execute_input": "2021-07-26T18:22:25.620582Z",
     "iopub.status.busy": "2021-07-26T18:22:25.620212Z",
     "iopub.status.idle": "2021-07-26T18:22:25.628236Z",
     "shell.execute_reply": "2021-07-26T18:22:25.626873Z",
     "shell.execute_reply.started": "2021-07-26T18:22:25.620551Z"
    }
   },
   "outputs": [],
   "source": [
    "from sklearn.model_selection import train_test_split\n",
    "x_train,x_test,y_train,y_test=train_test_split(X,Y,test_size=0.3,random_state=5)"
   ]
  },
  {
   "cell_type": "markdown",
   "metadata": {},
   "source": [
    "##RandomForestClassifier"
   ]
  },
  {
   "cell_type": "code",
   "execution_count": null,
   "metadata": {
    "execution": {
     "iopub.execute_input": "2021-07-26T18:22:28.288182Z",
     "iopub.status.busy": "2021-07-26T18:22:28.287756Z",
     "iopub.status.idle": "2021-07-26T18:22:28.939786Z",
     "shell.execute_reply": "2021-07-26T18:22:28.938535Z",
     "shell.execute_reply.started": "2021-07-26T18:22:28.288135Z"
    }
   },
   "outputs": [],
   "source": [
    "from sklearn.ensemble import RandomForestClassifier\n",
    "rf_classifier = RandomForestClassifier(n_estimators = 20,criterion = 'entropy', max_depth = 20, random_state = 5)\n",
    "rf_classifier.fit(x_train, y_train)"
   ]
  },
  {
   "cell_type": "code",
   "execution_count": null,
   "metadata": {
    "execution": {
     "iopub.execute_input": "2021-07-26T18:22:29.974784Z",
     "iopub.status.busy": "2021-07-26T18:22:29.974366Z",
     "iopub.status.idle": "2021-07-26T18:22:30.001116Z",
     "shell.execute_reply": "2021-07-26T18:22:30.000066Z",
     "shell.execute_reply.started": "2021-07-26T18:22:29.974742Z"
    }
   },
   "outputs": [],
   "source": [
    "pred_train = rf_classifier.predict(x_train)\n",
    "pred_test = rf_classifier.predict(x_test)"
   ]
  },
  {
   "cell_type": "code",
   "execution_count": null,
   "metadata": {
    "execution": {
     "iopub.execute_input": "2021-07-26T18:22:33.631994Z",
     "iopub.status.busy": "2021-07-26T18:22:33.631632Z",
     "iopub.status.idle": "2021-07-26T18:22:33.641626Z",
     "shell.execute_reply": "2021-07-26T18:22:33.640184Z",
     "shell.execute_reply.started": "2021-07-26T18:22:33.63196Z"
    }
   },
   "outputs": [],
   "source": [
    "from sklearn.metrics import accuracy_score\n",
    "print('Training Accuracy: ', accuracy_score(y_train, pred_train))\n",
    "print('Testing Accuracy: ', accuracy_score(y_test, pred_test))"
   ]
  },
  {
   "cell_type": "code",
   "execution_count": null,
   "metadata": {
    "execution": {
     "iopub.execute_input": "2021-07-26T18:23:21.656447Z",
     "iopub.status.busy": "2021-07-26T18:23:21.656036Z",
     "iopub.status.idle": "2021-07-26T18:23:21.678147Z",
     "shell.execute_reply": "2021-07-26T18:23:21.676723Z",
     "shell.execute_reply.started": "2021-07-26T18:23:21.656417Z"
    }
   },
   "outputs": [],
   "source": [
    "y_pred=rf_classifier.predict(x_test)\n",
    "print(confusion_matrix(y_test,y_pred))"
   ]
  },
  {
   "cell_type": "code",
   "execution_count": null,
   "metadata": {
    "execution": {
     "iopub.execute_input": "2021-07-26T18:23:35.342971Z",
     "iopub.status.busy": "2021-07-26T18:23:35.342553Z",
     "iopub.status.idle": "2021-07-26T18:23:35.36361Z",
     "shell.execute_reply": "2021-07-26T18:23:35.362555Z",
     "shell.execute_reply.started": "2021-07-26T18:23:35.34293Z"
    }
   },
   "outputs": [],
   "source": [
    "print(accuracy_score(y_test,y_pred))\n",
    "print(classification_report(y_test,y_pred))"
   ]
  },
  {
   "cell_type": "code",
   "execution_count": null,
   "metadata": {
    "execution": {
     "iopub.execute_input": "2021-07-26T18:24:12.02154Z",
     "iopub.status.busy": "2021-07-26T18:24:12.021097Z",
     "iopub.status.idle": "2021-07-26T18:24:12.060334Z",
     "shell.execute_reply": "2021-07-26T18:24:12.05926Z",
     "shell.execute_reply.started": "2021-07-26T18:24:12.021493Z"
    }
   },
   "outputs": [],
   "source": [
    "test_data.head()"
   ]
  },
  {
   "cell_type": "code",
   "execution_count": null,
   "metadata": {
    "execution": {
     "iopub.execute_input": "2021-07-26T18:25:36.020685Z",
     "iopub.status.busy": "2021-07-26T18:25:36.020333Z",
     "iopub.status.idle": "2021-07-26T18:25:36.026079Z",
     "shell.execute_reply": "2021-07-26T18:25:36.024949Z",
     "shell.execute_reply.started": "2021-07-26T18:25:36.020654Z"
    }
   },
   "outputs": [],
   "source": [
    "test_ids = test_data.pop('id')"
   ]
  },
  {
   "cell_type": "code",
   "execution_count": null,
   "metadata": {
    "execution": {
     "iopub.execute_input": "2021-07-26T18:25:42.598452Z",
     "iopub.status.busy": "2021-07-26T18:25:42.598061Z",
     "iopub.status.idle": "2021-07-26T18:25:42.604481Z",
     "shell.execute_reply": "2021-07-26T18:25:42.601884Z",
     "shell.execute_reply.started": "2021-07-26T18:25:42.598422Z"
    }
   },
   "outputs": [],
   "source": [
    "x_test = test_data.values"
   ]
  },
  {
   "cell_type": "code",
   "execution_count": null,
   "metadata": {
    "execution": {
     "iopub.execute_input": "2021-07-26T18:25:43.705939Z",
     "iopub.status.busy": "2021-07-26T18:25:43.705525Z",
     "iopub.status.idle": "2021-07-26T18:25:43.724954Z",
     "shell.execute_reply": "2021-07-26T18:25:43.723857Z",
     "shell.execute_reply.started": "2021-07-26T18:25:43.705892Z"
    }
   },
   "outputs": [],
   "source": [
    "x_test = scaler.transform(x_test)\n",
    "y_test = rf_classifier.predict_proba(x_test)"
   ]
  },
  {
   "cell_type": "code",
   "execution_count": null,
   "metadata": {
    "execution": {
     "iopub.execute_input": "2021-07-26T18:25:47.96852Z",
     "iopub.status.busy": "2021-07-26T18:25:47.968157Z",
     "iopub.status.idle": "2021-07-26T18:25:47.973777Z",
     "shell.execute_reply": "2021-07-26T18:25:47.972594Z",
     "shell.execute_reply.started": "2021-07-26T18:25:47.968473Z"
    }
   },
   "outputs": [],
   "source": [
    "submission = pd.DataFrame(y_test, index=test_ids, columns=enc.classes_)"
   ]
  },
  {
   "cell_type": "code",
   "execution_count": null,
   "metadata": {
    "execution": {
     "iopub.execute_input": "2021-07-26T18:25:59.760152Z",
     "iopub.status.busy": "2021-07-26T18:25:59.759704Z",
     "iopub.status.idle": "2021-07-26T18:25:59.803199Z",
     "shell.execute_reply": "2021-07-26T18:25:59.801895Z",
     "shell.execute_reply.started": "2021-07-26T18:25:59.760099Z"
    }
   },
   "outputs": [],
   "source": [
    "submission.head(5)"
   ]
  },
  {
   "cell_type": "code",
   "execution_count": null,
   "metadata": {
    "execution": {
     "iopub.execute_input": "2021-07-26T18:26:18.192373Z",
     "iopub.status.busy": "2021-07-26T18:26:18.191955Z",
     "iopub.status.idle": "2021-07-26T18:26:18.243744Z",
     "shell.execute_reply": "2021-07-26T18:26:18.242667Z",
     "shell.execute_reply.started": "2021-07-26T18:26:18.19234Z"
    }
   },
   "outputs": [],
   "source": [
    "submission.to_csv('submission_leaf_classification.csv') "
   ]
  },
  {
   "cell_type": "markdown",
   "metadata": {},
   "source": [
    "XGBoost"
   ]
  },
  {
   "cell_type": "code",
   "execution_count": null,
   "metadata": {
    "execution": {
     "iopub.execute_input": "2021-07-26T18:22:39.216529Z",
     "iopub.status.busy": "2021-07-26T18:22:39.216089Z",
     "iopub.status.idle": "2021-07-26T18:22:45.790413Z",
     "shell.execute_reply": "2021-07-26T18:22:45.789173Z",
     "shell.execute_reply.started": "2021-07-26T18:22:39.216499Z"
    }
   },
   "outputs": [],
   "source": [
    "import xgboost as xgb\n",
    "xg_classifier = xgb.XGBClassifier(n_estimators = 20)\n",
    "xg_classifier.fit(x_train, y_train)"
   ]
  },
  {
   "cell_type": "code",
   "execution_count": null,
   "metadata": {
    "execution": {
     "iopub.execute_input": "2021-07-26T18:22:45.794235Z",
     "iopub.status.busy": "2021-07-26T18:22:45.793465Z",
     "iopub.status.idle": "2021-07-26T18:22:45.843142Z",
     "shell.execute_reply": "2021-07-26T18:22:45.841852Z",
     "shell.execute_reply.started": "2021-07-26T18:22:45.794147Z"
    }
   },
   "outputs": [],
   "source": [
    "pred_train = xg_classifier.predict(x_train)\n",
    "pred_test = xg_classifier.predict(x_test)\n",
    "\n",
    "print('Training Accuracy: ', accuracy_score(y_train, pred_train))\n",
    "print('Testing Accuracy: ', accuracy_score(y_test, pred_test))"
   ]
  }
 ],
 "metadata": {
  "kernelspec": {
   "display_name": "Python 3",
   "language": "python",
   "name": "python3"
  },
  "language_info": {
   "codemirror_mode": {
    "name": "ipython",
    "version": 3
   },
   "file_extension": ".py",
   "mimetype": "text/x-python",
   "name": "python",
   "nbconvert_exporter": "python",
   "pygments_lexer": "ipython3",
   "version": "3.9.1"
  }
 },
 "nbformat": 4,
 "nbformat_minor": 4
}
