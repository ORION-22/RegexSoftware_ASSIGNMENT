{
 "cells": [
  {
   "cell_type": "markdown",
   "id": "37fe6de9",
   "metadata": {},
   "source": [
    "Assignment 5 <br>\n",
    "    \n",
    "Referral id: SIRSS1088 <br>\n",
    "NAME: ONASVEE BANARSE <br>\n",
    "EMAIL : 2obanarse@gmail.com <br>\n",
    "COLLEGE: AISSMS IOIT <br>\n",
    "GitHub : https://github.com/ORION-22/RegexSoftware_ASSIGNMENT.git"
   ]
  },
  {
   "cell_type": "markdown",
   "id": "758263c2",
   "metadata": {},
   "source": [
    "# Q1. Given a list of integers, write a function to return the sum of all prime numbers in that list.\n"
   ]
  },
  {
   "cell_type": "code",
   "execution_count": 9,
   "id": "8b35d81e",
   "metadata": {},
   "outputs": [
    {
     "name": "stdout",
     "output_type": "stream",
     "text": [
      "Enter number of element in list:5\n",
      "Enter element no 1:\n",
      "2\n",
      "Enter element no 2:\n",
      "3\n",
      "Enter element no 3:\n",
      "1\n",
      "Enter element no 4:\n",
      "6\n",
      "Enter element no 5:\n",
      "7\n",
      "Sum of all prime number: 12\n"
     ]
    }
   ],
   "source": [
    "def primeSum( arr, n):\n",
    "    \n",
    "    max_val = max(arr)\n",
    "    prime=[True for i in range(max_val + 1)]\n",
    "    prime[0] = False\n",
    "    prime[1] = False\n",
    "    for p in range(2, max_val + 1):\n",
    "        if(p * p > max_val):\n",
    "            break\n",
    "        if (prime[p] == True):\n",
    "            for i in range(p * 2, max_val+1, p):\n",
    "                prime[i] = False\n",
    "    sum = 0\n",
    "    for i in range(n):\n",
    "        if (prime[arr[i]]):\n",
    "            sum += arr[i]\n",
    "    return sum\n",
    " \n",
    "\n",
    "arr =[]\n",
    "noele=int(input('Enter number of element in list:'))\n",
    "for i in range (noele):\n",
    "    print(f'Enter element no {i+1}:')\n",
    "    app=int(input())\n",
    "    arr.append(app)\n",
    "    \n",
    "n = len(arr)\n",
    "print('Sum of all prime number:',primeSum(arr, n))"
   ]
  },
  {
   "cell_type": "markdown",
   "id": "170686e1",
   "metadata": {},
   "source": [
    "# Q2. Given a list of integers, write a function to check whether the list is strictly increasing or not."
   ]
  },
  {
   "cell_type": "code",
   "execution_count": 37,
   "id": "d2fa3692",
   "metadata": {},
   "outputs": [
    {
     "name": "stdout",
     "output_type": "stream",
     "text": [
      "Enter number of element in list:5\n",
      "Enter element no 1:\n",
      "5\n",
      "Enter element no 2:\n",
      "6\n",
      "Enter element no 3:\n",
      "7\n",
      "Enter element no 4:\n",
      "8\n",
      "Enter element no 5:\n",
      "9\n",
      "List is strictly increasing: True\n"
     ]
    }
   ],
   "source": [
    "def solve( nums):\n",
    "    if len(nums) <= 2:\n",
    "         return True\n",
    "    if len(set(nums)) != len(nums):\n",
    "         return False\n",
    "    ordered = sorted(nums)\n",
    "    return nums == ordered or nums == ordered[::-1]\n",
    "\n",
    "arr =[]\n",
    "noele=int(input('Enter number of element in list:'))\n",
    "for i in range (noele):\n",
    "    print(f'Enter element no {i+1}:')\n",
    "    app=int(input())\n",
    "    arr.append(app)\n",
    "print('List is strictly increasing:',solve(arr))"
   ]
  },
  {
   "cell_type": "markdown",
   "id": "ec210aef",
   "metadata": {},
   "source": [
    "# Q3. Write a function to check whether a given list is expanding or not (the difference between adjacent elements should keep on increasing)."
   ]
  },
  {
   "cell_type": "code",
   "execution_count": 38,
   "id": "3681c4c5",
   "metadata": {},
   "outputs": [
    {
     "name": "stdout",
     "output_type": "stream",
     "text": [
      "Enter number of element in list:5\n",
      "Enter element no 1:\n",
      "4\n",
      "Enter element no 2:\n",
      "6\n",
      "Enter element no 3:\n",
      "7\n",
      "Enter element no 4:\n",
      "2\n",
      "Enter element no 5:\n",
      "4\n",
      "Original list : [4, 6, 7, 2, 4]\n",
      "Difference list:  [2, 1, -5, 2]\n",
      "List is strictly increasing: False\n"
     ]
    }
   ],
   "source": [
    "def solve( nums):\n",
    "    if len(nums) <= 2:\n",
    "         return True\n",
    "    if len(set(nums)) != len(nums):\n",
    "         return False\n",
    "    ordered = sorted(nums)\n",
    "    return nums == ordered or nums == ordered[::-1]\n",
    "\n",
    "arr =[]\n",
    "noele=int(input('Enter number of element in list:'))\n",
    "for i in range (noele):\n",
    "    print(f'Enter element no {i+1}:')\n",
    "    app=int(input())\n",
    "    arr.append(app)\n",
    "    \n",
    "print (\"Original list : \" + str(arr))\n",
    "\n",
    "diff_list = []\n",
    "for i in range(1, len(arr)):\n",
    "    diff_list.append(arr[i] - arr[i-1])\n",
    "print (\"Difference list: \", str(diff_list))\n",
    "\n",
    "print('List is strictly increasing:',solve(diff_list))"
   ]
  },
  {
   "cell_type": "markdown",
   "id": "2a3b54fb",
   "metadata": {},
   "source": [
    "# Q4. Write a function to calculate all permutations of a given string. (Without using itertools)\n"
   ]
  },
  {
   "cell_type": "code",
   "execution_count": 16,
   "id": "777771da",
   "metadata": {},
   "outputs": [
    {
     "name": "stdout",
     "output_type": "stream",
     "text": [
      "Enter the string : ABC\n",
      "All possible strings are : \n",
      "ABC  ACB  BAC  BCA  CAB  CBA  "
     ]
    }
   ],
   "source": [
    "def permute(s, answer):\n",
    "    if (len(s) == 0):\n",
    "        print(answer, end = \"  \")\n",
    "        return \n",
    "    for i in range(len(s)):\n",
    "        ch = s[i]\n",
    "        left_substr = s[0:i]\n",
    "        right_substr = s[i + 1:]\n",
    "        rest = left_substr + right_substr\n",
    "        permute(rest, answer + ch)\n",
    "\n",
    "        \n",
    "answer = \"\"\n",
    "s = input(\"Enter the string : \")\n",
    "print(\"All possible strings are : \")\n",
    "permute(s, answer)\n",
    " "
   ]
  },
  {
   "cell_type": "code",
   "execution_count": null,
   "id": "96e4a689",
   "metadata": {},
   "outputs": [],
   "source": []
  }
 ],
 "metadata": {
  "kernelspec": {
   "display_name": "Python 3",
   "language": "python",
   "name": "python3"
  },
  "language_info": {
   "codemirror_mode": {
    "name": "ipython",
    "version": 3
   },
   "file_extension": ".py",
   "mimetype": "text/x-python",
   "name": "python",
   "nbconvert_exporter": "python",
   "pygments_lexer": "ipython3",
   "version": "3.9.1"
  }
 },
 "nbformat": 4,
 "nbformat_minor": 5
}
