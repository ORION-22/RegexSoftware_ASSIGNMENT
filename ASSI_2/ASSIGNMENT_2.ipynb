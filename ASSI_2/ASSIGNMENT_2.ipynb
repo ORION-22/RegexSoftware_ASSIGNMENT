{
 "cells": [
  {
   "cell_type": "markdown",
   "id": "529e3b3a",
   "metadata": {},
   "source": [
    "Assignment 2<br>\n",
    "\n",
    "Referral id: SIRSS1088 <br>\n",
    "NAME: ONASVEE BANARSE <br>\n",
    "EMAIL : 2obanarse@gmail.com <br>\n",
    "COLLEGE: AISSMS IOIT <br>\n",
    "github : https://github.com/ORION-22/RegexSoftware_ASSIGNMENT.git"
   ]
  },
  {
   "cell_type": "markdown",
   "id": "984b12e0",
   "metadata": {},
   "source": [
    "<h1>Q1. Write a lambda expression to extract first word of a string"
   ]
  },
  {
   "cell_type": "code",
   "execution_count": 4,
   "id": "78543f9e",
   "metadata": {},
   "outputs": [
    {
     "name": "stdout",
     "output_type": "stream",
     "text": [
      "hello\n"
     ]
    }
   ],
   "source": [
    "c = \"hello world this is orion \"\n",
    "a = (lambda x:[i for i in x if i[0].isalpha()][0])(c.split())\n",
    "print(a)"
   ]
  },
  {
   "cell_type": "markdown",
   "id": "83a742af",
   "metadata": {},
   "source": [
    "<h1>Q2. Write a function to extract first word of s string (with many words separated by space)."
   ]
  },
  {
   "cell_type": "code",
   "execution_count": 21,
   "id": "eba46624",
   "metadata": {},
   "outputs": [
    {
     "name": "stdout",
     "output_type": "stream",
     "text": [
      "The string is : hello Regex Software thank you for support.\n",
      "List of first alphabet of the words: ['h', 'R', 'S', 't', 'y', 'f', 's']\n"
     ]
    }
   ],
   "source": [
    "def firstLetterWord(str):\n",
    "    result =[]\n",
    "    v = True\n",
    "    for i in range(len(str)):\n",
    "        if (str[i] == ' '):\n",
    "            v = True\n",
    "        elif (str[i] != ' ' and v == True):\n",
    "            result.append(str[i])\n",
    "            v = False\n",
    "    return result\n",
    "\n",
    "str = \"hello Regex Software thank you for support.\"\n",
    "print('The string is :',str)\n",
    "print('List of first alphabet of the words:',firstLetterWord(str))"
   ]
  },
  {
   "cell_type": "markdown",
   "id": "63d0612a",
   "metadata": {},
   "source": [
    "<h1>Q3. Extract the first word from every string from a list of strings by using map function."
   ]
  },
  {
   "cell_type": "code",
   "execution_count": 16,
   "id": "90715054",
   "metadata": {},
   "outputs": [
    {
     "name": "stdout",
     "output_type": "stream",
     "text": [
      "First words of the list of sentences are:\n",
      "['hello', 'regex', 'thank']\n"
     ]
    }
   ],
   "source": [
    "list1=[\"hello world\",\"regex software\",\"thank you\"]\n",
    "list2=[]\n",
    "\n",
    "for i in list1:\n",
    "    first_word=i.split()[0]\n",
    "    list2.append(first_word)\n",
    "\n",
    "print(\"First words of the list of sentences are:\")\n",
    "print(list2)"
   ]
  },
  {
   "cell_type": "markdown",
   "id": "4d6de7b2",
   "metadata": {},
   "source": [
    "<h1>Q4. Write a function to return a list of prime factors of a given number."
   ]
  },
  {
   "cell_type": "code",
   "execution_count": 9,
   "id": "009222f4",
   "metadata": {},
   "outputs": [
    {
     "name": "stdout",
     "output_type": "stream",
     "text": [
      "Please Enter any Number: 1000\n",
      "List of prime factors:\n",
      "[2, 5]\n"
     ]
    }
   ],
   "source": [
    "Number = int(input(\"Please Enter any Number: \"))\n",
    "lsprime=[]\n",
    "for i in range(2, Number + 1):\n",
    "    if(Number % i == 0):\n",
    "        isprime = 1\n",
    "        for j in range(2, (i //2 + 1)):\n",
    "            if(i % j == 0):\n",
    "                isprime = 0\n",
    "                break\n",
    "            \n",
    "        if (isprime == 1):\n",
    "            lsprime.append(i)\n",
    "\n",
    "print('List of prime factors:')\n",
    "print(lsprime)"
   ]
  },
  {
   "cell_type": "markdown",
   "id": "c1a42480",
   "metadata": {},
   "source": [
    "<h1>Q5. Write a function that finds 2nd largest among 4 numbers (Repetitions are allowed, \n",
    "without sorting)."
   ]
  },
  {
   "cell_type": "code",
   "execution_count": 12,
   "id": "ba893551",
   "metadata": {},
   "outputs": [
    {
     "name": "stdout",
     "output_type": "stream",
     "text": [
      "Enter number of elements in list: 4\n",
      "Enter elements: 1\n",
      "Enter elements: 2\n",
      "Enter elements: 3\n",
      "Enter elements: 4\n",
      "Second largest 3\n"
     ]
    }
   ],
   "source": [
    "list1 = []\n",
    "\n",
    "num = int(input(\"Enter number of elements in list: \"))\n",
    "for i in range(1, num + 1):\n",
    "    ele = int(input(\"Enter elements: \"))\n",
    "    list1.append(ele)\n",
    "\n",
    "new_list = set(list1) \n",
    "new_list.remove(max(new_list))\n",
    "print(\"Second largest\",max(new_list))"
   ]
  },
  {
   "cell_type": "code",
   "execution_count": null,
   "id": "cf918764",
   "metadata": {},
   "outputs": [],
   "source": []
  }
 ],
 "metadata": {
  "kernelspec": {
   "display_name": "Python 3",
   "language": "python",
   "name": "python3"
  },
  "language_info": {
   "codemirror_mode": {
    "name": "ipython",
    "version": 3
   },
   "file_extension": ".py",
   "mimetype": "text/x-python",
   "name": "python",
   "nbconvert_exporter": "python",
   "pygments_lexer": "ipython3",
   "version": "3.9.1"
  }
 },
 "nbformat": 4,
 "nbformat_minor": 5
}
